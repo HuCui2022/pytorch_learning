{
  "nbformat": 4,
  "nbformat_minor": 0,
  "metadata": {
    "colab": {
      "name": "tensorboard_use.ipynb",
      "provenance": [],
      "collapsed_sections": [],
      "authorship_tag": "ABX9TyP9Sbaa1/u46sGRZ0Fg+UQR",
      "include_colab_link": true
    },
    "kernelspec": {
      "name": "python3",
      "display_name": "Python 3"
    }
  },
  "cells": [
    {
      "cell_type": "markdown",
      "metadata": {
        "id": "view-in-github",
        "colab_type": "text"
      },
      "source": [
        "<a href=\"https://colab.research.google.com/github/smiledinisa/pytorch_learning/blob/master/tensorboard_use.ipynb\" target=\"_parent\"><img src=\"https://colab.research.google.com/assets/colab-badge.svg\" alt=\"Open In Colab\"/></a>"
      ]
    },
    {
      "cell_type": "markdown",
      "metadata": {
        "id": "HegD8DjcSDUa",
        "colab_type": "text"
      },
      "source": [
        "## Visualizing Models, Data, and Training with TensorBoard\n",
        "\n",
        "\n",
        "we’ll learn how to:\n",
        "\n",
        "- Read in data and with appropriate transforms (nearly identical to the prior tutorial).\n",
        "\n",
        "- Set up TensorBoard.\n",
        "\n",
        "- Write to TensorBoard.\n",
        "\n",
        "- Inspect a model architecture using TensorBoard.\n",
        "\n",
        "- Use TensorBoard to create interactive versions of the visualizations we created in last tutorial, with less code\n",
        "\n",
        "\n",
        "## Specifically, on point #5, we’ll see:\n",
        "\n",
        "- A couple of ways to inspect our training data\n",
        "- How to track our model’s performance as it trains\n",
        "- How to assess our model’s performance once it is trained."
      ]
    },
    {
      "cell_type": "code",
      "metadata": {
        "id": "-XQC_B4mTbAy",
        "colab_type": "code",
        "colab": {}
      },
      "source": [
        ""
      ],
      "execution_count": null,
      "outputs": []
    },
    {
      "cell_type": "code",
      "metadata": {
        "id": "bXbZAkyWR7EZ",
        "colab_type": "code",
        "colab": {}
      },
      "source": [
        "# imports\n",
        "import matplotlib.pyplot as plt\n",
        "import numpy as np\n",
        "\n",
        "import torch\n",
        "import torchvision\n",
        "import torchvision.transforms as transforms\n",
        "\n",
        "import torch.nn as nn\n",
        "import torch.nn.functional as F\n",
        "import torch.optim as optim\n",
        "\n",
        "#tansforms \n",
        "transforms = transforms.Compose([\n",
        "                transforms.ToTensor(),\n",
        "                transforms.Normalize((0.5,),(0.5,))\n",
        "])\n",
        "\n",
        "#datasets\n",
        "trainset = torchvision.datasets.FashionMNIST('/content/sample_data', download=True, train=True, transform= transforms)\n",
        "testset = torchvision.datasets.FashionMNIST('/content/sample_data', download=True, train=False, transform= transforms)\n",
        "\n",
        "#dataloader\n",
        "\n",
        "trainloader = torch.utils.data.DataLoader(trainset, batch_size=4, shuffle= True, num_workers=2)\n",
        "testloader = torch.utils.data.DataLoader(testset, batch_size=4, shuffle= False, num_workers=2)\n",
        "\n",
        "#constant for classes.\n",
        "classes = ('T-shirt/top', 'Trouser', 'Pullover', 'Dress', 'Coat',\n",
        "        'Sandal', 'Shirt', 'Sneaker', 'Bag', 'Ankle Boot')\n",
        "\n",
        "# helper function to show images.\n",
        "def matplotlib_imshow(img, one_channel=False):\n",
        "  if one_channel:\n",
        "    img = img.mean(dim = 0)\n",
        "  img = img/2 + 0.5\n",
        "  npimg = img.numpy()\n",
        "  if one_channel:\n",
        "    plt.imshow(npimg, cmap='Greys')\n",
        "  else:\n",
        "    plt.imshow(np.transpose(npimg, (1,2,0)))\n",
        "\n"
      ],
      "execution_count": 58,
      "outputs": []
    },
    {
      "cell_type": "code",
      "metadata": {
        "id": "nHY1CfO4WSzY",
        "colab_type": "code",
        "colab": {}
      },
      "source": [
        "# model.\n",
        "class Net(nn.Module):\n",
        "  def __init__(self):\n",
        "    super(Net,self).__init__()\n",
        "    self.conv1 = nn.Conv2d(1,6,5)\n",
        "    self.pool = nn.MaxPool2d(2,2)\n",
        "    self.conv2 = nn.Conv2d(6,16,5)\n",
        "    self.fc1 = nn.Linear(16*4*4, 120)\n",
        "    self.fc2 = nn.Linear(120,84)\n",
        "    self.fc3 = nn.Linear(84, 10)\n",
        "\n",
        "  def forward(self,x):\n",
        "    x = self.pool(F.relu(self.conv1(x)))\n",
        "    x = self.pool(F.relu(self.conv2(x)))\n",
        "    x = x.view(-1, 16*4*4)\n",
        "    x = F.relu(self.fc1(x))\n",
        "    x = F.relu(self.fc2(x))\n",
        "    x = self.fc3(x)\n",
        "    return x\n"
      ],
      "execution_count": 59,
      "outputs": []
    },
    {
      "cell_type": "code",
      "metadata": {
        "id": "Zr_8l7WaWav4",
        "colab_type": "code",
        "colab": {}
      },
      "source": [
        "net = Net()"
      ],
      "execution_count": 60,
      "outputs": []
    },
    {
      "cell_type": "code",
      "metadata": {
        "id": "gToEz6gKYNRx",
        "colab_type": "code",
        "colab": {}
      },
      "source": [
        "# optimizer and criterion \n",
        "\n",
        "criterion = nn.CrossEntropyLoss()\n",
        "optimizer = optim.SGD(net.parameters(), lr = 0.001, momentum=0.9)"
      ],
      "execution_count": 61,
      "outputs": []
    },
    {
      "cell_type": "code",
      "metadata": {
        "id": "NAtnXDchYT4g",
        "colab_type": "code",
        "colab": {}
      },
      "source": [
        "# Tensorboard setup.\n",
        "from torch.utils.tensorboard import SummaryWriter\n",
        "\n",
        "# default `log_dir` is \"runs\" - we'll be more specific here\n",
        "writer = SummaryWriter('/content/sample_data/fashion_mnist_experiment_1')"
      ],
      "execution_count": 62,
      "outputs": []
    },
    {
      "cell_type": "code",
      "metadata": {
        "id": "xes39jMuZVoh",
        "colab_type": "code",
        "colab": {
          "base_uri": "https://localhost:8080/",
          "height": 138
        },
        "outputId": "a01cf087-1b9d-48fc-c244-1b8f0063c690"
      },
      "source": [
        "# Writing to TensorBoard\n",
        "# get some random trainning images.\n",
        "dataiter = iter(trainloader)\n",
        "images, labels = dataiter.next()\n",
        "\n",
        "#create grid of images\n",
        "img_grid = torchvision.utils.make_grid(images)\n",
        "\n",
        "#show images\n",
        "matplotlib_imshow(img_grid, one_channel=True)\n",
        "\n",
        "#write to tensorboard\n",
        "writer.add_image('foru_fashion_mnist_images', img_grid)\n"
      ],
      "execution_count": 63,
      "outputs": [
        {
          "output_type": "display_data",
          "data": {
            "image/png": "[encoded data removed]",
            "text/plain": [
              "<Figure size 432x288 with 1 Axes>"
            ]
          },
          "metadata": {
            "tags": [],
            "needs_background": "light"
          }
        }
      ]
    },
    {
      "cell_type": "code",
      "metadata": {
        "id": "odaZUChDcy4a",
        "colab_type": "code",
        "colab": {
          "base_uri": "https://localhost:8080/",
          "height": 251
        },
        "outputId": "136837ab-ff40-43aa-db04-5c5389fbfc8b"
      },
      "source": [
        "import os\n",
        "os.chdir('/content/sample_data')\n",
        "\n",
        "!wget https://bin.equinox.io/c/4VmDzA7iaHb/ngrok-stable-linux-amd64.zip\n",
        "!unzip ngrok-stable-linux-amd64.zip\n"
      ],
      "execution_count": 20,
      "outputs": [
        {
          "output_type": "stream",
          "text": [
            "--2020-08-12 02:20:57--  https://bin.equinox.io/c/4VmDzA7iaHb/ngrok-stable-linux-amd64.zip\n",
            "Resolving bin.equinox.io (bin.equinox.io)... 54.84.116.182, 52.54.124.219, 34.225.3.211, ...\n",
            "Connecting to bin.equinox.io (bin.equinox.io)|54.84.116.182|:443... connected.\n",
            "HTTP request sent, awaiting response... 200 OK\n",
            "Length: 13773305 (13M) [application/octet-stream]\n",
            "Saving to: ‘ngrok-stable-linux-amd64.zip’\n",
            "\n",
            "ngrok-stable-linux- 100%[===================>]  13.13M  37.6MB/s    in 0.3s    \n",
            "\n",
            "2020-08-12 02:20:58 (37.6 MB/s) - ‘ngrok-stable-linux-amd64.zip’ saved [13773305/13773305]\n",
            "\n",
            "Archive:  ngrok-stable-linux-amd64.zip\n",
            "  inflating: ngrok                   \n"
          ],
          "name": "stdout"
        }
      ]
    },
    {
      "cell_type": "code",
      "metadata": {
        "id": "XzlIMPbqeJVv",
        "colab_type": "code",
        "colab": {
          "base_uri": "https://localhost:8080/",
          "height": 163
        },
        "outputId": "b05ccc0b-a6eb-4583-ee26-1eba22bd57d7"
      },
      "source": [
        "LOG_DIR = '/content/sample_data/fashion_mnist_experiment_1'\n",
        "get_ipython().system_raw('tensorboard --logdir {} --host 0.0.0.0 --port 6006 &'.format(LOG_DIR))\n",
        "#开启ngrok service，绑定port 6006(tensorboard)\n",
        "get_ipython().system_raw('./ngrok http 6006 &')\n",
        "! curl -s http://localhost:4040/api/tunnels | python3 -c \"import sys, json; print(json.load(sys.stdin)['tunnels'][0]['public_url'])\"\n",
        "!tensorboard --logdir=/content/sample_data/fashion_mnist_experiment_1"
      ],
      "execution_count": 71,
      "outputs": [
        {
          "output_type": "stream",
          "text": [
            "https://048bf84bdca1.ngrok.io\n",
            "2020-08-12 06:37:35.680670: I tensorflow/stream_executor/platform/default/dso_loader.cc:48] Successfully opened dynamic library libcudart.so.10.1\n",
            "W0812 06:37:37.491057 140289074239232 plugin_event_accumulator.py:323] Found more than one graph event per run, or there was a metagraph containing a graph_def, as well as one or more graph events.  Overwriting the graph with the newest event.\n",
            "W0812 06:37:37.491441 140289074239232 plugin_event_accumulator.py:362] Found more than one \"run metadata\" event with tag step1. Overwriting it with the newest event.\n",
            "Serving TensorBoard on localhost; to expose to the network, use a proxy or pass --bind_all\n",
            "TensorBoard 2.3.0 at http://localhost:6006/ (Press CTRL+C to quit)\n",
            "^C\n"
          ],
          "name": "stdout"
        }
      ]
    },
    {
      "cell_type": "markdown",
      "metadata": {
        "id": "NjEl-bKRlXvQ",
        "colab_type": "text"
      },
      "source": [
        "## Inspect the model using TensorBoard"
      ]
    },
    {
      "cell_type": "code",
      "metadata": {
        "id": "DxgdWf3HawIa",
        "colab_type": "code",
        "colab": {}
      },
      "source": [
        "writer.add_graph(net, images, True)\n",
        "writer.close()"
      ],
      "execution_count": null,
      "outputs": []
    },
    {
      "cell_type": "markdown",
      "metadata": {
        "id": "f3GT6RL1nEOJ",
        "colab_type": "text"
      },
      "source": [
        "![链接文字](https://img-blog.csdnimg.cn/20200812105958448.png?x-oss-process=image/watermark,type_ZmFuZ3poZW5naGVpdGk,shadow_10,text_aHR0cHM6Ly9ibG9nLmNzZG4ubmV0L2dhb2N1aTg4Mw==,size_16,color_FFFFFF,t_70#pic_center)"
      ]
    },
    {
      "cell_type": "markdown",
      "metadata": {
        "id": "t1L6xUcdntR_",
        "colab_type": "text"
      },
      "source": [
        "# Adding a “Projector” to TensorBoard"
      ]
    },
    {
      "cell_type": "code",
      "metadata": {
        "id": "a2pgMlGPbirH",
        "colab_type": "code",
        "colab": {
          "base_uri": "https://localhost:8080/",
          "height": 35
        },
        "outputId": "68eda028-38de-4c3c-939e-0645edb2dc2c"
      },
      "source": [
        "import tensorflow as tf\n",
        "import tensorboard as tb\n",
        "tf.io.gfile = tb.compat.tensorflow_stub.io.gfile\n",
        "# helper function\n",
        "def select_n_random(data, labels, n=100):\n",
        "  '''\n",
        "  select n random datapoints and their coresponding labels from a dataset\n",
        "  '''\n",
        "  assert len(data) == len(labels)\n",
        "\n",
        "  perm = torch.randperm(len(data)) #随机打乱。\n",
        "  return data[perm][:n], labels[perm][:n]\n",
        "\n",
        "# select random images and their target indices\n",
        "images, labels = select_n_random(trainset.data, trainset.targets)##\n",
        "\n",
        "# get the class labels for each image\n",
        "class_labels = [classes[lab] for lab in labels]\n",
        "\n",
        "# log embeddings\n",
        "features = images.view(-1, 28 * 28)\n",
        "writer.add_embedding(features,\n",
        "           metadata=class_labels,\n",
        "           label_img=images.unsqueeze(1))\n",
        "writer.close()\n",
        "\n"
      ],
      "execution_count": 66,
      "outputs": [
        {
          "output_type": "stream",
          "text": [
            "warning: Embedding dir exists, did you set global_step for add_embedding()?\n"
          ],
          "name": "stdout"
        }
      ]
    },
    {
      "cell_type": "markdown",
      "metadata": {
        "id": "CpNmrq45uJav",
        "colab_type": "text"
      },
      "source": [
        "![链接文字](https://img-blog.csdnimg.cn/20200812113001711.png?x-oss-process=image/watermark,type_ZmFuZ3poZW5naGVpdGk,shadow_10,text_aHR0cHM6Ly9ibG9nLmNzZG4ubmV0L2dhb2N1aTg4Mw==,size_16,color_FFFFFF,t_70#pic_center)"
      ]
    },
    {
      "cell_type": "markdown",
      "metadata": {
        "id": "6EOL93XFuRwV",
        "colab_type": "text"
      },
      "source": [
        "## Tracking model training with TensorBoard\n",
        "\n",
        "In the previous example, we simply printed the model’s running loss every 2000 iterations. Now, we’ll instead log the running loss to TensorBoard, along with a view into the predictions the model is making via the plot_classes_preds function."
      ]
    },
    {
      "cell_type": "code",
      "metadata": {
        "id": "3OkvQdibpVOc",
        "colab_type": "code",
        "colab": {}
      },
      "source": [
        "# helper function.\n",
        "\n",
        "def images_to_probs(net, images):\n",
        "  '''\n",
        "  predictions adn corresponding probalities.\n",
        "  '''\n",
        "  output = net(images)\n",
        "  _,preds_tensor = torch.max(output,1)\n",
        "  preds = np.squeeze(preds_tensor.numpy())\n",
        "  return preds, [F.softmax(el, dim=0)[i].item() for i, el in zip(preds,output)]\n",
        "\n",
        "\n",
        "def plot_classes_preds(net, images, labels):\n",
        "  '''\n",
        "  Generates matplotlib Figure using a trained network, along with images\n",
        "  and labels from a batch, that shows the network's top prediction along\n",
        "  with its probability, alongside the actual label, coloring this\n",
        "  information based on whether the prediction was correct or not.\n",
        "  Uses the \"images_to_probs\" function.\n",
        "  '''\n",
        "  preds, probs = images_to_probs(net, images)\n",
        "  # plot the images in the batch, along with predicted and true labels\n",
        "  fig = plt.figure(figsize=(12, 48))\n",
        "  for idx in np.arange(4):\n",
        "      ax = fig.add_subplot(1, 4, idx+1, xticks=[], yticks=[])\n",
        "      matplotlib_imshow(images[idx], one_channel=True)\n",
        "      ax.set_title(\"{0}, {1:.1f}%\\n(label: {2})\".format(\n",
        "          classes[preds[idx]],\n",
        "          probs[idx] * 100.0,\n",
        "          classes[labels[idx]]),\n",
        "                  color=(\"green\" if preds[idx]==labels[idx].item() else \"red\"))\n",
        "  return fig\n",
        "  "
      ],
      "execution_count": 67,
      "outputs": []
    },
    {
      "cell_type": "code",
      "metadata": {
        "id": "pV1MCW_zpYwF",
        "colab_type": "code",
        "colab": {
          "base_uri": "https://localhost:8080/",
          "height": 35
        },
        "outputId": "03eb8580-3b31-47e0-8ceb-12d13935802e"
      },
      "source": [
        "running_loss = 0.0\n",
        "for epoch in range(1):  # loop over the dataset multiple times\n",
        "\n",
        "    for i, data in enumerate(trainloader, 0):\n",
        "\n",
        "        # get the inputs; data is a list of [inputs, labels]\n",
        "        inputs, labels = data\n",
        "\n",
        "        # zero the parameter gradients\n",
        "        optimizer.zero_grad()\n",
        "\n",
        "        # forward + backward + optimize\n",
        "        outputs = net(inputs)\n",
        "        loss = criterion(outputs, labels)\n",
        "        loss.backward()\n",
        "        optimizer.step()\n",
        "\n",
        "        running_loss += loss.item()\n",
        "        if i % 1000 == 999:    # every 1000 mini-batches...\n",
        "\n",
        "            # ...log the running loss\n",
        "            writer.add_scalar('training loss',\n",
        "                            running_loss / 1000,\n",
        "                            epoch * len(trainloader) + i)\n",
        "\n",
        "            # ...log a Matplotlib Figure showing the model's predictions on a\n",
        "            # random mini-batch\n",
        "            writer.add_figure('predictions vs. actuals',\n",
        "                            plot_classes_preds(net, inputs, labels),\n",
        "                            global_step=epoch * len(trainloader) + i)\n",
        "            running_loss = 0.0\n",
        "print('Finished Training')"
      ],
      "execution_count": 70,
      "outputs": [
        {
          "output_type": "stream",
          "text": [
            "Finished Training\n"
          ],
          "name": "stdout"
        }
      ]
    },
    {
      "cell_type": "code",
      "metadata": {
        "id": "XPONO8lEpZH9",
        "colab_type": "code",
        "colab": {
          "base_uri": "https://localhost:8080/",
          "height": 211
        },
        "outputId": "32975868-6671-4dcc-e937-2c785585c5ee"
      },
      "source": [
        "# Tracking model training with TensorBoard\n",
        "for i,data in enumerate(trainloader,0):\n",
        "  inputs,labels = data\n",
        "  plot_classes_preds(net,inputs,labels)\n",
        "  break\n",
        "  \n",
        "\n"
      ],
      "execution_count": 74,
      "outputs": [
        {
          "output_type": "display_data",
          "data": {
            "image/png": "[encoded data removed]",
            "text/plain": [
              "<Figure size 864x3456 with 4 Axes>"
            ]
          },
          "metadata": {
            "tags": []
          }
        }
      ]
    },
    {
      "cell_type": "code",
      "metadata": {
        "id": "oWkTSa5WZ68v",
        "colab_type": "code",
        "colab": {
          "base_uri": "https://localhost:8080/",
          "height": 211
        },
        "outputId": "cd7b6b56-49a8-4713-f4e7-b77ec4af5a35"
      },
      "source": [
        "a = iter(trainloader)\n",
        "inputs,labels = next(a)\n",
        "fig = plot_classes_preds(net, inputs, labels)\n"
      ],
      "execution_count": 86,
      "outputs": [
        {
          "output_type": "display_data",
          "data": {
            "image/png": "[encoded data removed]",
            "text/plain": [
              "<Figure size 864x3456 with 4 Axes>"
            ]
          },
          "metadata": {
            "tags": []
          }
        }
      ]
    },
    {
      "cell_type": "code",
      "metadata": {
        "id": "8eMzHbNXcWeu",
        "colab_type": "code",
        "colab": {
          "base_uri": "https://localhost:8080/",
          "height": 211
        },
        "outputId": "e190b4e1-bd01-4df5-b64e-8c17d72b7224"
      },
      "source": [
        "fig"
      ],
      "execution_count": 85,
      "outputs": [
        {
          "output_type": "execute_result",
          "data": {
            "image/png": "[encoded data removed]",
            "text/plain": [
              "<Figure size 864x3456 with 4 Axes>"
            ]
          },
          "metadata": {
            "tags": []
          },
          "execution_count": 85
        }
      ]
    },
    {
      "cell_type": "code",
      "metadata": {
        "id": "l_toNmP4dFcN",
        "colab_type": "code",
        "colab": {}
      },
      "source": [
        "\n",
        "writer.add_figure(tag='reslut_function', figure = fig)"
      ],
      "execution_count": 81,
      "outputs": []
    },
    {
      "cell_type": "code",
      "metadata": {
        "id": "WvSxeVMxdFfX",
        "colab_type": "code",
        "colab": {
          "base_uri": "https://localhost:8080/",
          "height": 163
        },
        "outputId": "211af3cd-0f51-4bb2-db1a-632c587145d3"
      },
      "source": [
        "LOG_DIR = '/content/sample_data/fashion_mnist_experiment_1'\n",
        "get_ipython().system_raw('tensorboard --logdir {} --host 0.0.0.0 --port 6006 &'.format(LOG_DIR))\n",
        "#开启ngrok service，绑定port 6006(tensorboard)\n",
        "get_ipython().system_raw('./ngrok http 6006 &')\n",
        "! curl -s http://localhost:4040/api/tunnels | python3 -c \"import sys, json; print(json.load(sys.stdin)['tunnels'][0]['public_url'])\"\n",
        "!tensorboard --logdir=/content/sample_data/fashion_mnist_experiment_1"
      ],
      "execution_count": 98,
      "outputs": [
        {
          "output_type": "stream",
          "text": [
            "https://90249084bd27.ngrok.io\n",
            "2020-08-12 08:09:56.815666: I tensorflow/stream_executor/platform/default/dso_loader.cc:48] Successfully opened dynamic library libcudart.so.10.1\n",
            "W0812 08:09:58.841665 140572099426048 plugin_event_accumulator.py:323] Found more than one graph event per run, or there was a metagraph containing a graph_def, as well as one or more graph events.  Overwriting the graph with the newest event.\n",
            "W0812 08:09:58.842195 140572099426048 plugin_event_accumulator.py:362] Found more than one \"run metadata\" event with tag step1. Overwriting it with the newest event.\n",
            "Serving TensorBoard on localhost; to expose to the network, use a proxy or pass --bind_all\n",
            "TensorBoard 2.3.0 at http://localhost:6006/ (Press CTRL+C to quit)\n",
            "^C\n"
          ],
          "name": "stdout"
        }
      ]
    },
    {
      "cell_type": "code",
      "metadata": {
        "id": "8DCYkUVrdFif",
        "colab_type": "code",
        "colab": {}
      },
      "source": [
        ""
      ],
      "execution_count": 87,
      "outputs": []
    },
    {
      "cell_type": "code",
      "metadata": {
        "id": "Mb2j84_1dFlf",
        "colab_type": "code",
        "colab": {}
      },
      "source": [
        ""
      ],
      "execution_count": null,
      "outputs": []
    },
    {
      "cell_type": "markdown",
      "metadata": {
        "id": "kspL1qc9c_4f",
        "colab_type": "text"
      },
      "source": [
        "## Assessing trained models with TensorBoard"
      ]
    },
    {
      "cell_type": "code",
      "metadata": {
        "id": "yaslShezcwu-",
        "colab_type": "code",
        "colab": {}
      },
      "source": [
        "# 1. gets the probability predictions in a test_size x num_classes Tensor\n",
        "# 2. gets the preds in a test_size Tensor\n",
        "# takes ~10 seconds to run\n",
        "\n",
        "class_probs = []\n",
        "class_preds = []\n",
        "with torch.no_grad():\n",
        "  for data in testloader:\n",
        "    images, labels = data\n",
        "    outputs = net(images)\n",
        "    class_probs_batch = [F.softmax(el, dim=0) for el in outputs]\n",
        "    _,class_preds_batch = torch.max(outputs, 1)\n",
        "    \n",
        "    class_probs.append(class_probs_batch)\n",
        "    class_preds.append(class_preds_batch)\n",
        "\n",
        "test_probs = torch.cat([torch.stack(x) for x in class_probs])\n",
        "test_preds = torch.cat(class_preds)\n",
        "\n",
        "#help function.\n",
        "def add_pr_curve_tensorboard(class_index, test_probs, test_preds, global_step=0):\n",
        "  tensorboard_preds = test_preds == class_index\n",
        "  tensorboard_probs = test_probs[:,class_index]\n",
        "  writer.add_pr_curve(classes[class_index],\n",
        "            tensorboard_preds,\n",
        "            tensorboard_probs,\n",
        "            global_step = global_step\n",
        "            )\n",
        "  writer.close()\n",
        "\n",
        "\n",
        "for i in range(len(classes)):\n",
        "  add_pr_curve_tensorboard(i, test_probs, test_preds)\n",
        "\n"
      ],
      "execution_count": 97,
      "outputs": []
    },
    {
      "cell_type": "code",
      "metadata": {
        "id": "Gf-TyjxEoDsx",
        "colab_type": "code",
        "colab": {
          "base_uri": "https://localhost:8080/",
          "height": 35
        },
        "outputId": "c5b39029-fc45-4140-81e3-b40a67eef61e"
      },
      "source": [
        "a = [[1,2,3],[1,2,3],[1,2,3]]\n",
        "a"
      ],
      "execution_count": 88,
      "outputs": [
        {
          "output_type": "execute_result",
          "data": {
            "text/plain": [
              "[[1, 2, 3], [1, 2, 3], [1, 2, 3]]"
            ]
          },
          "metadata": {
            "tags": []
          },
          "execution_count": 88
        }
      ]
    },
    {
      "cell_type": "markdown",
      "metadata": {
        "id": "59uUrE-1va_W",
        "colab_type": "text"
      },
      "source": [
        "![链接文字](https://img-blog.csdnimg.cn/20200812161603175.png?x-oss-process=image/watermark,type_ZmFuZ3poZW5naGVpdGk,shadow_10,text_aHR0cHM6Ly9ibG9nLmNzZG4ubmV0L2dhb2N1aTg4Mw==,size_16,color_FFFFFF,t_70#pic_center)"
      ]
    },
    {
      "cell_type": "code",
      "metadata": {
        "id": "eNiOwt6ZoZG8",
        "colab_type": "code",
        "colab": {}
      },
      "source": [
        ""
      ],
      "execution_count": null,
      "outputs": []
    }
  ]
}